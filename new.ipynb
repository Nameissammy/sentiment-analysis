{
  "cells": [
    {
      "cell_type": "code",
      "execution_count": 3,
      "metadata": {
        "colab": {
          "base_uri": "https://localhost:8080/"
        },
        "id": "VhT3tKEL5owl",
        "outputId": "77f90f62-f1a4-484a-e609-ec032e7efc03"
      },
      "outputs": [
        {
          "data": {
            "text/plain": [
              "\"\\nimport nltk\\n!pip install nltk\\nnltk.download('stopwords')\\n\""
            ]
          },
          "execution_count": 3,
          "metadata": {},
          "output_type": "execute_result"
        }
      ],
      "source": [
        "import numpy as np\n",
        "import pandas as pd\n",
        "'''\n",
        "import nltk\n",
        "!pip install nltk\n",
        "nltk.download('stopwords')\n",
        "'''"
      ]
    },
    {
      "cell_type": "code",
      "execution_count": 4,
      "metadata": {
        "colab": {
          "base_uri": "https://localhost:8080/"
        },
        "id": "AOoArx6o5own",
        "outputId": "eec46c13-759c-4f00-d41e-9aeffa56cda8"
      },
      "outputs": [
        {
          "name": "stdout",
          "output_type": "stream",
          "text": [
            "<class 'pandas.core.frame.DataFrame'>\n",
            "RangeIndex: 10000 entries, 0 to 9999\n",
            "Data columns (total 2 columns):\n",
            " #   Column     Non-Null Count  Dtype \n",
            "---  ------     --------------  ----- \n",
            " 0   review     10000 non-null  object\n",
            " 1   sentiment  10000 non-null  object\n",
            "dtypes: object(2)\n",
            "memory usage: 156.4+ KB\n"
          ]
        }
      ],
      "source": [
        "df = pd.read_csv('IMDB Dataset.csv')\n",
        "df = df[:10000]\n",
        "df.info()"
      ]
    },
    {
      "cell_type": "markdown",
      "metadata": {
        "id": "MRjwYbDw5owo"
      },
      "source": [
        "Performing pre-prosessing steps"
      ]
    },
    {
      "cell_type": "code",
      "execution_count": 5,
      "metadata": {
        "id": "uOHu5sRT5owp"
      },
      "outputs": [],
      "source": [
        "#removing tags from text -> 'review'\n",
        "import re\n",
        "def tag_removal(text):\n",
        "    cleaned_text = re.sub(re.compile('<.*?>'),'',text)\n",
        "    return cleaned_text\n",
        "\n",
        "df['review'] = df['review'].apply(tag_removal)"
      ]
    },
    {
      "cell_type": "code",
      "execution_count": 6,
      "metadata": {
        "colab": {
          "base_uri": "https://localhost:8080/"
        },
        "id": "s-deJngq5owq",
        "outputId": "57f3be23-8ae8-4438-d7cb-144306d6085c"
      },
      "outputs": [
        {
          "data": {
            "text/plain": [
              "0       one of the other reviewers has mentioned that ...\n",
              "1       a wonderful little production. the filming tec...\n",
              "2       i thought this was a wonderful way to spend ti...\n",
              "3       basically there's a family where a little boy ...\n",
              "4       petter mattei's \"love in the time of money\" is...\n",
              "                              ...                        \n",
              "9995    fun, entertaining movie about wwii german spy ...\n",
              "9996    give me a break. how can anyone say that this ...\n",
              "9997    this movie is a bad movie. but after watching ...\n",
              "9998    this is a movie that was probably made to ente...\n",
              "9999    smashing film about film-making. shows the int...\n",
              "Name: review, Length: 10000, dtype: object"
            ]
          },
          "execution_count": 6,
          "metadata": {},
          "output_type": "execute_result"
        }
      ],
      "source": [
        "#lowering the text\n",
        "df['review'] = df['review'].apply(lambda x:x.lower())\n",
        "df['review']"
      ]
    },
    {
      "cell_type": "code",
      "execution_count": 7,
      "metadata": {
        "colab": {
          "base_uri": "https://localhost:8080/"
        },
        "id": "EeSP5SLQ5owq",
        "outputId": "fcabf2dc-0c54-4a81-9ae5-5318a1c9ccf4"
      },
      "outputs": [
        {
          "data": {
            "text/plain": [
              "0       one reviewers mentioned watching 1 oz episode ...\n",
              "1       wonderful little production. filming technique...\n",
              "2       thought wonderful way spend time hot summer we...\n",
              "3       basically there's family little boy (jake) thi...\n",
              "4       petter mattei's \"love time money\" visually stu...\n",
              "                              ...                        \n",
              "9995    fun, entertaining movie wwii german spy (julie...\n",
              "9996    give break. anyone say \"good hockey movie\"? kn...\n",
              "9997    movie bad movie. watching endless series bad h...\n",
              "9998    movie probably made entertain middle school, e...\n",
              "9999    smashing film film-making. shows intense stran...\n",
              "Name: review, Length: 10000, dtype: object"
            ]
          },
          "execution_count": 7,
          "metadata": {},
          "output_type": "execute_result"
        }
      ],
      "source": [
        "from nltk.corpus import stopwords\n",
        "sw_list  = stopwords.words('english')\n",
        "df['review'] = df['review'].apply(lambda x:[item for item in x.split() if item not in\n",
        "                                            sw_list]).apply(lambda x:' '.join(x))\n",
        "df['review']"
      ]
    },
    {
      "cell_type": "code",
      "execution_count": 8,
      "metadata": {
        "colab": {
          "base_uri": "https://localhost:8080/"
        },
        "id": "3hTesAGs5ows",
        "outputId": "1b9686fb-3a92-4d5f-df18-d82be0f113f6"
      },
      "outputs": [
        {
          "data": {
            "text/plain": [
              "0       one review mention watch 1 oz episod hooked. r...\n",
              "1       wonder littl production. film techniqu unassum...\n",
              "2       thought wonder way spend time hot summer weeke...\n",
              "3       basic there' famili littl boy (jake) think the...\n",
              "4       petter mattei' \"love time money\" visual stun f...\n",
              "                              ...                        \n",
              "9995    fun, entertain movi wwii german spi (juli andr...\n",
              "9996    give break. anyon say \"good hockey movie\"? kno...\n",
              "9997    movi bad movie. watch endless seri bad horror ...\n",
              "9998    movi probabl made entertain middl school, earl...\n",
              "9999    smash film film-making. show intens strang rel...\n",
              "Name: review, Length: 10000, dtype: object"
            ]
          },
          "execution_count": 8,
          "metadata": {},
          "output_type": "execute_result"
        }
      ],
      "source": [
        "\n",
        "#applying stemming\n",
        "from nltk.stem.porter import PorterStemmer\n",
        "ps = PorterStemmer()\n",
        "def stem_word(text):\n",
        "    return ' '.join([ps.stem(word) for word in text.split()])\n",
        "\n",
        "df['review'] = df['review'].apply(stem_word)\n",
        "df['review']"
      ]
    },
    {
      "cell_type": "code",
      "execution_count": 9,
      "metadata": {
        "id": "DkIoUTYl5ows"
      },
      "outputs": [],
      "source": [
        "X = df.loc[:,'review']\n",
        "y = df['sentiment']\n"
      ]
    },
    {
      "cell_type": "code",
      "execution_count": 10,
      "metadata": {
        "id": "i4EhQCa45owt"
      },
      "outputs": [],
      "source": [
        "from sklearn.preprocessing import LabelEncoder\n",
        "encoder = LabelEncoder()\n",
        "y = encoder.fit_transform(y)"
      ]
    },
    {
      "cell_type": "code",
      "execution_count": null,
      "metadata": {
        "id": "E3RJ10505owt"
      },
      "outputs": [],
      "source": [
        "\n",
        "\n"
      ]
    },
    {
      "cell_type": "code",
      "execution_count": 11,
      "metadata": {
        "id": "OdSnNJRD5owu"
      },
      "outputs": [],
      "source": [
        "from sklearn.model_selection import train_test_split\n",
        "X_train,X_test,y_train,y_test = train_test_split(X,y,test_size=0.2,random_state=1)\n",
        "#printing the dtype of each for safety purpose\n",
        "from sklearn.feature_extraction.text import CountVectorizer\n",
        "cv = CountVectorizer()\n",
        "X_train_bow = cv.fit_transform(X_train).toarray()\n",
        "X_test_bow = cv.transform(X_test).toarray()"
      ]
    },
    {
      "cell_type": "code",
      "execution_count": null,
      "metadata": {
        "colab": {
          "base_uri": "https://localhost:8080/"
        },
        "id": "0ejTejVkE_WN",
        "outputId": "42d7b1cd-e81d-418c-ad7f-4eb12403727d"
      },
      "outputs": [],
      "source": []
    },
    {
      "cell_type": "code",
      "execution_count": 12,
      "metadata": {
        "id": "n6FjJL5F5owu"
      },
      "outputs": [],
      "source": [
        "# prompt: how to fix the below error\n",
        "\n",
        "# Assuming the error is due to X_train being a pandas Series and not a list of strings\n",
        "X_train_bow = cv.fit_transform(X_train.tolist()).toarray()\n",
        "X_test_bow = cv.transform(X_test.tolist()).toarray()\n"
      ]
    },
    {
      "cell_type": "code",
      "execution_count": 13,
      "metadata": {
        "colab": {
          "base_uri": "https://localhost:8080/"
        },
        "id": "m-R2buhKDRge",
        "outputId": "630882ec-e7f6-461a-daaa-70c83c3f761a"
      },
      "outputs": [
        {
          "data": {
            "text/plain": [
              "0.8465"
            ]
          },
          "execution_count": 13,
          "metadata": {},
          "output_type": "execute_result"
        }
      ],
      "source": [
        "from sklearn.ensemble import RandomForestClassifier\n",
        "from sklearn.metrics import accuracy_score\n",
        "rf = RandomForestClassifier()\n",
        "rf.fit(X_train_bow,y_train)\n",
        "y_pred = rf.predict(X_test_bow)\n",
        "accuracy_score(y_test,y_pred)"
      ]
    },
    {
      "cell_type": "code",
      "execution_count": 14,
      "metadata": {
        "id": "CrC8NeJeKQ0q"
      },
      "outputs": [],
      "source": [
        "import pickle\n",
        "pickle.dump(rf,open('model.pkl','wb'))"
      ]
    },
    {
      "cell_type": "code",
      "execution_count": 15,
      "metadata": {
        "id": "7C_QB6pWKgMD"
      },
      "outputs": [],
      "source": [
        "pickle.dump(cv,open('vectorizer.pkl','wb'))"
      ]
    }
  ],
  "metadata": {
    "colab": {
      "provenance": []
    },
    "kernelspec": {
      "display_name": "base",
      "language": "python",
      "name": "python3"
    },
    "language_info": {
      "codemirror_mode": {
        "name": "ipython",
        "version": 3
      },
      "file_extension": ".py",
      "mimetype": "text/x-python",
      "name": "python",
      "nbconvert_exporter": "python",
      "pygments_lexer": "ipython3",
      "version": "3.11.5"
    }
  },
  "nbformat": 4,
  "nbformat_minor": 0
}
